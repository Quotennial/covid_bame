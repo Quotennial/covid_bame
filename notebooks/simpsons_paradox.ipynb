{
 "cells": [
  {
   "cell_type": "markdown",
   "metadata": {},
   "source": [
    "# Simpsons Paradox\n",
    "\n",
    "http://causality.cs.ucla.edu/blog/index.php/2020/07/06/race-covid-mortality-and-simpsons-paradox-by-dana-mackenzie/\n",
    "\n",
    "https://unherd.com/2020/05/what-the-headline-covid-figures-dont-tell-you/"
   ]
  },
  {
   "cell_type": "code",
   "execution_count": 1,
   "metadata": {},
   "outputs": [
    {
     "name": "stdout",
     "output_type": "stream",
     "text": [
      "Found local clean copy of Local_Authority_Districts__December_2017__Boundaries_in_the_UK__WGS84_\n",
      "Found local clean copy of fbook_covid_cases\n",
      "Found local clean copy of BAME_report_cases\n",
      "Found local clean copy of BAME_report_deaths\n",
      "Found local clean copy of bame_excess_deaths\n",
      "Found local clean copy of ons_deaths\n",
      "Found local clean copy of ethnicity_2011\n",
      "Found local clean copy of furlough_data\n",
      "Found local clean copy of key_workers\n",
      "Found local clean copy of deprivation_data\n",
      "Found local clean copy of population_est_data\n"
     ]
    }
   ],
   "source": [
    "import sys\n",
    "sys.path.insert(0, '../src/data')\n",
    "import bame_datastore\n",
    "import pandas as pd\n",
    "import requests\n",
    "import seaborn as sns\n",
    "import matplotlib.pyplot as plt\n",
    "import numpy as np"
   ]
  },
  {
   "cell_type": "markdown",
   "metadata": {},
   "source": [
    "# Ethnicity Data\n",
    "2011 census data https://www.ethnicity-facts-figures.service.gov.uk/uk-population-by-ethnicity/national-and-regional-populations/population-of-england-and-wales/latest#by-ethnicity\n",
    "\n",
    "Make it compatible with Morbidity data\n",
    "\n",
    "Maybe need to use more [up to date](https://www.ons.gov.uk/peoplepopulationandcommunity/populationandmigration/populationestimates/datasets/populationcharacteristicsresearchtables) ethnicitiy data \n"
   ]
  },
  {
   "cell_type": "code",
   "execution_count": 2,
   "metadata": {},
   "outputs": [
    {
     "name": "stdout",
     "output_type": "stream",
     "text": [
      "True\n"
     ]
    },
    {
     "data": {
      "text/html": [
       "<div>\n",
       "<style scoped>\n",
       "    .dataframe tbody tr th:only-of-type {\n",
       "        vertical-align: middle;\n",
       "    }\n",
       "\n",
       "    .dataframe tbody tr th {\n",
       "        vertical-align: top;\n",
       "    }\n",
       "\n",
       "    .dataframe thead th {\n",
       "        text-align: right;\n",
       "    }\n",
       "</style>\n",
       "<table border=\"1\" class=\"dataframe\">\n",
       "  <thead>\n",
       "    <tr style=\"text-align: right;\">\n",
       "      <th></th>\n",
       "      <th>count_people</th>\n",
       "      <th>pct_people</th>\n",
       "    </tr>\n",
       "    <tr>\n",
       "      <th>eth_grouped</th>\n",
       "      <th></th>\n",
       "      <th></th>\n",
       "    </tr>\n",
       "  </thead>\n",
       "  <tbody>\n",
       "    <tr>\n",
       "      <th>Bangladeshis/Pakistani</th>\n",
       "      <td>1571712</td>\n",
       "      <td>2.8</td>\n",
       "    </tr>\n",
       "    <tr>\n",
       "      <th>Black</th>\n",
       "      <td>1864890</td>\n",
       "      <td>3.3</td>\n",
       "    </tr>\n",
       "    <tr>\n",
       "      <th>Chinese</th>\n",
       "      <td>393141</td>\n",
       "      <td>0.7</td>\n",
       "    </tr>\n",
       "    <tr>\n",
       "      <th>Indian</th>\n",
       "      <td>1412958</td>\n",
       "      <td>2.5</td>\n",
       "    </tr>\n",
       "    <tr>\n",
       "      <th>Mixed/Multiple Ethnic Groups</th>\n",
       "      <td>1224400</td>\n",
       "      <td>2.2</td>\n",
       "    </tr>\n",
       "    <tr>\n",
       "      <th>Other Ethnic Group</th>\n",
       "      <td>1399416</td>\n",
       "      <td>2.5</td>\n",
       "    </tr>\n",
       "    <tr>\n",
       "      <th>White</th>\n",
       "      <td>48209395</td>\n",
       "      <td>86.0</td>\n",
       "    </tr>\n",
       "  </tbody>\n",
       "</table>\n",
       "</div>"
      ],
      "text/plain": [
       "                              count_people  pct_people\n",
       "eth_grouped                                           \n",
       "Bangladeshis/Pakistani             1571712         2.8\n",
       "Black                              1864890         3.3\n",
       "Chinese                             393141         0.7\n",
       "Indian                             1412958         2.5\n",
       "Mixed/Multiple Ethnic Groups       1224400         2.2\n",
       "Other Ethnic Group                 1399416         2.5\n",
       "White                             48209395        86.0"
      ]
     },
     "execution_count": 2,
     "metadata": {},
     "output_type": "execute_result"
    }
   ],
   "source": [
    "group_eth_dict = {'Bangladeshi': \"Bangladeshis/Pakistani\",\n",
    "                 'Chinese': \"Chinese\",\n",
    "                 'Indian': \"Indian\",\n",
    "                 'Pakistani': \"Bangladeshis/Pakistani\",\n",
    "                 'Asian other': \"Other Ethnic Group\",\n",
    "                 'Black': \"Black\",\n",
    "                 'Mixed':\"Mixed/Multiple Ethnic Groups\",\n",
    "                 'White':\"White\",\n",
    "                 'Other':\"Other Ethnic Group\"}\n",
    "\n",
    "url = \"https://www.ethnicity-facts-figures.service.gov.uk/uk-population-by-ethnicity/national-and-regional-populations/population-of-england-and-wales/latest/downloads/by-ethnicity.csv\"\n",
    "eth_df_raw = pd.read_csv(url, thousands=',')\n",
    "\n",
    "eth_df = eth_df_raw.copy()\n",
    "eth_df[\"eth_grouped\"] = eth_df[\"Ethnicity\"].map(group_eth_dict)\n",
    "eth_df = eth_df.dropna().groupby(\"eth_grouped\").sum()\n",
    "\n",
    "total_check = eth_df.Number.sum() == eth_df_raw.loc[eth_df_raw.Ethnicity==\"All\"].Number #check sum up\n",
    "pct_check = eth_df_raw.loc[eth_df_raw.Ethnicity==\"All\"][\"%\"]==100\n",
    "\n",
    "eth_df.columns = [\"count_people\", \"pct_people\"]\n",
    "\n",
    "print(total_check[0] and pct_check[0]) # checking totals work out\n",
    "eth_df#.plot.pie(subplots=True)"
   ]
  },
  {
   "cell_type": "markdown",
   "metadata": {},
   "source": [
    "# Covid Deaths by Ethnicity\n",
    "\n",
    "Using COVID deaths by ethnicity and age band https://www.ons.gov.uk/peoplepopulationandcommunity/birthsdeathsandmarriages/deaths/datasets/countsandratiosofcoronavirusrelateddeathsbyethnicgroupenglandandwales"
   ]
  },
  {
   "cell_type": "code",
   "execution_count": 3,
   "metadata": {},
   "outputs": [
    {
     "data": {
      "text/html": [
       "<div>\n",
       "<style scoped>\n",
       "    .dataframe tbody tr th:only-of-type {\n",
       "        vertical-align: middle;\n",
       "    }\n",
       "\n",
       "    .dataframe tbody tr th {\n",
       "        vertical-align: top;\n",
       "    }\n",
       "\n",
       "    .dataframe thead th {\n",
       "        text-align: right;\n",
       "    }\n",
       "</style>\n",
       "<table border=\"1\" class=\"dataframe\">\n",
       "  <thead>\n",
       "    <tr style=\"text-align: right;\">\n",
       "      <th></th>\n",
       "      <th></th>\n",
       "      <th>Counts of Coronavirus-related deaths</th>\n",
       "    </tr>\n",
       "    <tr>\n",
       "      <th>Ethnicity</th>\n",
       "      <th>Ageband</th>\n",
       "      <th></th>\n",
       "    </tr>\n",
       "  </thead>\n",
       "  <tbody>\n",
       "    <tr>\n",
       "      <th rowspan=\"2\" valign=\"top\">Bangladeshis/Pakistani</th>\n",
       "      <th>0-64</th>\n",
       "      <td>100</td>\n",
       "    </tr>\n",
       "    <tr>\n",
       "      <th>65+</th>\n",
       "      <td>286</td>\n",
       "    </tr>\n",
       "    <tr>\n",
       "      <th rowspan=\"2\" valign=\"top\">Black</th>\n",
       "      <th>0-64</th>\n",
       "      <td>185</td>\n",
       "    </tr>\n",
       "    <tr>\n",
       "      <th>65+</th>\n",
       "      <td>581</td>\n",
       "    </tr>\n",
       "    <tr>\n",
       "      <th rowspan=\"2\" valign=\"top\">Chinese</th>\n",
       "      <th>0-64</th>\n",
       "      <td>10</td>\n",
       "    </tr>\n",
       "    <tr>\n",
       "      <th>65+</th>\n",
       "      <td>49</td>\n",
       "    </tr>\n",
       "    <tr>\n",
       "      <th rowspan=\"2\" valign=\"top\">Indian</th>\n",
       "      <th>0-64</th>\n",
       "      <td>82</td>\n",
       "    </tr>\n",
       "    <tr>\n",
       "      <th>65+</th>\n",
       "      <td>401</td>\n",
       "    </tr>\n",
       "    <tr>\n",
       "      <th rowspan=\"2\" valign=\"top\">Mixed/Multiple Ethnic Groups</th>\n",
       "      <th>0-64</th>\n",
       "      <td>18</td>\n",
       "    </tr>\n",
       "    <tr>\n",
       "      <th>65+</th>\n",
       "      <td>76</td>\n",
       "    </tr>\n",
       "    <tr>\n",
       "      <th rowspan=\"2\" valign=\"top\">Other Ethnic Group</th>\n",
       "      <th>0-64</th>\n",
       "      <td>65</td>\n",
       "    </tr>\n",
       "    <tr>\n",
       "      <th>65+</th>\n",
       "      <td>226</td>\n",
       "    </tr>\n",
       "    <tr>\n",
       "      <th rowspan=\"2\" valign=\"top\">White</th>\n",
       "      <th>0-64</th>\n",
       "      <td>1036</td>\n",
       "    </tr>\n",
       "    <tr>\n",
       "      <th>65+</th>\n",
       "      <td>9690</td>\n",
       "    </tr>\n",
       "  </tbody>\n",
       "</table>\n",
       "</div>"
      ],
      "text/plain": [
       "                                      Counts of Coronavirus-related deaths\n",
       "Ethnicity                    Ageband                                      \n",
       "Bangladeshis/Pakistani       0-64                                      100\n",
       "                             65+                                       286\n",
       "Black                        0-64                                      185\n",
       "                             65+                                       581\n",
       "Chinese                      0-64                                       10\n",
       "                             65+                                        49\n",
       "Indian                       0-64                                       82\n",
       "                             65+                                       401\n",
       "Mixed/Multiple Ethnic Groups 0-64                                       18\n",
       "                             65+                                        76\n",
       "Other Ethnic Group           0-64                                       65\n",
       "                             65+                                       226\n",
       "White                        0-64                                     1036\n",
       "                             65+                                      9690"
      ]
     },
     "execution_count": 3,
     "metadata": {},
     "output_type": "execute_result"
    }
   ],
   "source": [
    "# COVID Deaths by Ethnicities\n",
    "url = \"https://www.ons.gov.uk/file?uri=%2fpeoplepopulationandcommunity%2fbirthsdeathsandmarriages%2fdeaths%2fdatasets%2fcountsandratiosofcoronavirusrelateddeathsbyethnicgroupenglandandwales%2f2march2020to10april2020/reft1countsratiocovidsexageeth06052020185223.xlsx\"\n",
    "r = requests.get(url)\n",
    "fpath = f\"../data/external/deaths_ethnicities.xlsx\"\n",
    "with open(fpath, 'wb') as outfile:\n",
    "    outfile.write(r.content)\n",
    "df_raw = pd.read_excel(fpath, sheet_name=\"Table 1\", skiprows=2, usecols=[0,1,2,3], nrows= 28)\n",
    "df = df_raw.set_index([\"Ethnicity\", \"Ageband\"]).groupby(by = [\"Ethnicity\", \"Ageband\"]).sum()\n",
    "df"
   ]
  },
  {
   "cell_type": "code",
   "execution_count": 4,
   "metadata": {},
   "outputs": [
    {
     "data": {
      "image/png": "[encoded data removed]",
      "text/plain": [
       "<Figure size 360x360 with 1 Axes>"
      ]
     },
     "metadata": {},
     "output_type": "display_data"
    }
   ],
   "source": [
    "df.plot(kind=\"pie\", subplots=True, figsize=(5,5))\n",
    "plt.title('Total Deaths', color='black')\n",
    "plt.legend(loc='best', bbox_to_anchor=(1.0, 0.5))\n",
    "plt.show()"
   ]
  },
  {
   "cell_type": "code",
   "execution_count": 5,
   "metadata": {},
   "outputs": [
    {
     "data": {
      "text/html": [
       "<div>\n",
       "<style scoped>\n",
       "    .dataframe tbody tr th:only-of-type {\n",
       "        vertical-align: middle;\n",
       "    }\n",
       "\n",
       "    .dataframe tbody tr th {\n",
       "        vertical-align: top;\n",
       "    }\n",
       "\n",
       "    .dataframe thead th {\n",
       "        text-align: right;\n",
       "    }\n",
       "</style>\n",
       "<table border=\"1\" class=\"dataframe\">\n",
       "  <thead>\n",
       "    <tr style=\"text-align: right;\">\n",
       "      <th></th>\n",
       "      <th>count_deaths</th>\n",
       "      <th>pct_deaths</th>\n",
       "    </tr>\n",
       "    <tr>\n",
       "      <th>Ethnicity</th>\n",
       "      <th></th>\n",
       "      <th></th>\n",
       "    </tr>\n",
       "  </thead>\n",
       "  <tbody>\n",
       "    <tr>\n",
       "      <th>Bangladeshis/Pakistani</th>\n",
       "      <td>386</td>\n",
       "      <td>3.014447</td>\n",
       "    </tr>\n",
       "    <tr>\n",
       "      <th>Black</th>\n",
       "      <td>766</td>\n",
       "      <td>5.982038</td>\n",
       "    </tr>\n",
       "    <tr>\n",
       "      <th>Chinese</th>\n",
       "      <td>59</td>\n",
       "      <td>0.460758</td>\n",
       "    </tr>\n",
       "    <tr>\n",
       "      <th>Indian</th>\n",
       "      <td>483</td>\n",
       "      <td>3.771964</td>\n",
       "    </tr>\n",
       "    <tr>\n",
       "      <th>Mixed/Multiple Ethnic Groups</th>\n",
       "      <td>94</td>\n",
       "      <td>0.734088</td>\n",
       "    </tr>\n",
       "    <tr>\n",
       "      <th>Other Ethnic Group</th>\n",
       "      <td>291</td>\n",
       "      <td>2.272550</td>\n",
       "    </tr>\n",
       "    <tr>\n",
       "      <th>White</th>\n",
       "      <td>10726</td>\n",
       "      <td>83.764155</td>\n",
       "    </tr>\n",
       "  </tbody>\n",
       "</table>\n",
       "</div>"
      ],
      "text/plain": [
       "                              count_deaths  pct_deaths\n",
       "Ethnicity                                             \n",
       "Bangladeshis/Pakistani                 386    3.014447\n",
       "Black                                  766    5.982038\n",
       "Chinese                                 59    0.460758\n",
       "Indian                                 483    3.771964\n",
       "Mixed/Multiple Ethnic Groups            94    0.734088\n",
       "Other Ethnic Group                     291    2.272550\n",
       "White                                10726   83.764155"
      ]
     },
     "execution_count": 5,
     "metadata": {},
     "output_type": "execute_result"
    }
   ],
   "source": [
    "# Calculating as percentage of total deaths\n",
    "df_all_ages = df.groupby(\"Ethnicity\").sum()\n",
    "total_deaths = df_all_ages.sum()[0] # all covid deaths \n",
    "df_all_ages[\"pct_deaths\"] = (df_all_ages[\"Counts of Coronavirus-related deaths\"]/total_deaths)*100\n",
    "df_all_ages.columns = [\"count_deaths\", \"pct_deaths\"]\n",
    "df_all_ages"
   ]
  },
  {
   "cell_type": "code",
   "execution_count": 6,
   "metadata": {},
   "outputs": [
    {
     "data": {
      "text/plain": [
       "<matplotlib.axes._subplots.AxesSubplot at 0x11d6884d0>"
      ]
     },
     "execution_count": 6,
     "metadata": {},
     "output_type": "execute_result"
    },
    {
     "data": {
      "image/png": "[encoded data removed]",
      "text/plain": [
       "<Figure size 432x288 with 1 Axes>"
      ]
     },
     "metadata": {},
     "output_type": "display_data"
    },
    {
     "data": {
      "image/png": "[encoded data removed]",
      "text/plain": [
       "<Figure size 432x288 with 1 Axes>"
      ]
     },
     "metadata": {},
     "output_type": "display_data"
    },
    {
     "data": {
      "image/png": "[encoded data removed]",
      "text/plain": [
       "<Figure size 432x288 with 1 Axes>"
      ]
     },
     "metadata": {
      "needs_background": "light"
     },
     "output_type": "display_data"
    }
   ],
   "source": [
    "# Stage 1 plot percentage deaths against perventage population\n",
    "plot_df = eth_df.join(df_all_ages) \n",
    "plot_df.drop(columns = [\"count_people\", \"pct_people\", \"pct_deaths\"]).plot(kind='pie', subplots=True)\n",
    "plot_df.drop(columns = [\"count_deaths\", \"pct_people\", \"pct_deaths\"]).plot(kind='pie', subplots=True)\n",
    "plot_df.drop(columns = [\"count_people\", \"count_deaths\",]).plot(kind='bar')"
   ]
  },
  {
   "cell_type": "markdown",
   "metadata": {},
   "source": [
    "# Simpsons Stuff"
   ]
  },
  {
   "cell_type": "code",
   "execution_count": 7,
   "metadata": {},
   "outputs": [
    {
     "data": {
      "text/html": [
       "<div>\n",
       "<style scoped>\n",
       "    .dataframe tbody tr th:only-of-type {\n",
       "        vertical-align: middle;\n",
       "    }\n",
       "\n",
       "    .dataframe tbody tr th {\n",
       "        vertical-align: top;\n",
       "    }\n",
       "\n",
       "    .dataframe thead th {\n",
       "        text-align: right;\n",
       "    }\n",
       "</style>\n",
       "<table border=\"1\" class=\"dataframe\">\n",
       "  <thead>\n",
       "    <tr style=\"text-align: right;\">\n",
       "      <th></th>\n",
       "      <th>count_064</th>\n",
       "      <th>count_64+</th>\n",
       "    </tr>\n",
       "    <tr>\n",
       "      <th>Ethnicity</th>\n",
       "      <th></th>\n",
       "      <th></th>\n",
       "    </tr>\n",
       "  </thead>\n",
       "  <tbody>\n",
       "    <tr>\n",
       "      <th>Bangladeshis/Pakistani</th>\n",
       "      <td>100</td>\n",
       "      <td>286</td>\n",
       "    </tr>\n",
       "    <tr>\n",
       "      <th>Black</th>\n",
       "      <td>185</td>\n",
       "      <td>581</td>\n",
       "    </tr>\n",
       "    <tr>\n",
       "      <th>Chinese</th>\n",
       "      <td>10</td>\n",
       "      <td>49</td>\n",
       "    </tr>\n",
       "    <tr>\n",
       "      <th>Indian</th>\n",
       "      <td>82</td>\n",
       "      <td>401</td>\n",
       "    </tr>\n",
       "    <tr>\n",
       "      <th>Mixed/Multiple Ethnic Groups</th>\n",
       "      <td>18</td>\n",
       "      <td>76</td>\n",
       "    </tr>\n",
       "    <tr>\n",
       "      <th>Other Ethnic Group</th>\n",
       "      <td>65</td>\n",
       "      <td>226</td>\n",
       "    </tr>\n",
       "    <tr>\n",
       "      <th>White</th>\n",
       "      <td>1036</td>\n",
       "      <td>9690</td>\n",
       "    </tr>\n",
       "  </tbody>\n",
       "</table>\n",
       "</div>"
      ],
      "text/plain": [
       "                              count_064  count_64+\n",
       "Ethnicity                                         \n",
       "Bangladeshis/Pakistani              100        286\n",
       "Black                               185        581\n",
       "Chinese                              10         49\n",
       "Indian                               82        401\n",
       "Mixed/Multiple Ethnic Groups         18         76\n",
       "Other Ethnic Group                   65        226\n",
       "White                              1036       9690"
      ]
     },
     "execution_count": 7,
     "metadata": {},
     "output_type": "execute_result"
    }
   ],
   "source": [
    "#tidy up age data\n",
    "df_age_raw = df.groupby(by = [\"Ethnicity\", \"Ageband\"]).sum().reset_index()\n",
    "df_age_raw = df_age_raw.pivot(index = \"Ethnicity\", columns=\"Ageband\")\n",
    "df_age_raw.columns = [\"count_064\", \"count_64+\"]\n",
    "df_age_raw"
   ]
  },
  {
   "cell_type": "code",
   "execution_count": 8,
   "metadata": {},
   "outputs": [
    {
     "data": {
      "text/html": [
       "<div>\n",
       "<style scoped>\n",
       "    .dataframe tbody tr th:only-of-type {\n",
       "        vertical-align: middle;\n",
       "    }\n",
       "\n",
       "    .dataframe tbody tr th {\n",
       "        vertical-align: top;\n",
       "    }\n",
       "\n",
       "    .dataframe thead th {\n",
       "        text-align: right;\n",
       "    }\n",
       "</style>\n",
       "<table border=\"1\" class=\"dataframe\">\n",
       "  <thead>\n",
       "    <tr style=\"text-align: right;\">\n",
       "      <th></th>\n",
       "      <th>count_064</th>\n",
       "      <th>pct_064</th>\n",
       "      <th>count_64+</th>\n",
       "      <th>pct_64+</th>\n",
       "    </tr>\n",
       "    <tr>\n",
       "      <th>Ethnicity</th>\n",
       "      <th></th>\n",
       "      <th></th>\n",
       "      <th></th>\n",
       "      <th></th>\n",
       "    </tr>\n",
       "  </thead>\n",
       "  <tbody>\n",
       "    <tr>\n",
       "      <th>Bangladeshis/Pakistani</th>\n",
       "      <td>100</td>\n",
       "      <td>0.780945</td>\n",
       "      <td>286</td>\n",
       "      <td>2.233503</td>\n",
       "    </tr>\n",
       "    <tr>\n",
       "      <th>Black</th>\n",
       "      <td>185</td>\n",
       "      <td>1.444748</td>\n",
       "      <td>581</td>\n",
       "      <td>4.537290</td>\n",
       "    </tr>\n",
       "    <tr>\n",
       "      <th>Chinese</th>\n",
       "      <td>10</td>\n",
       "      <td>0.078094</td>\n",
       "      <td>49</td>\n",
       "      <td>0.382663</td>\n",
       "    </tr>\n",
       "    <tr>\n",
       "      <th>Indian</th>\n",
       "      <td>82</td>\n",
       "      <td>0.640375</td>\n",
       "      <td>401</td>\n",
       "      <td>3.131589</td>\n",
       "    </tr>\n",
       "    <tr>\n",
       "      <th>Mixed/Multiple Ethnic Groups</th>\n",
       "      <td>18</td>\n",
       "      <td>0.140570</td>\n",
       "      <td>76</td>\n",
       "      <td>0.593518</td>\n",
       "    </tr>\n",
       "    <tr>\n",
       "      <th>Other Ethnic Group</th>\n",
       "      <td>65</td>\n",
       "      <td>0.507614</td>\n",
       "      <td>226</td>\n",
       "      <td>1.764936</td>\n",
       "    </tr>\n",
       "    <tr>\n",
       "      <th>White</th>\n",
       "      <td>1036</td>\n",
       "      <td>8.090590</td>\n",
       "      <td>9690</td>\n",
       "      <td>75.673565</td>\n",
       "    </tr>\n",
       "  </tbody>\n",
       "</table>\n",
       "</div>"
      ],
      "text/plain": [
       "                              count_064   pct_064  count_64+    pct_64+\n",
       "Ethnicity                                                              \n",
       "Bangladeshis/Pakistani              100  0.780945        286   2.233503\n",
       "Black                               185  1.444748        581   4.537290\n",
       "Chinese                              10  0.078094         49   0.382663\n",
       "Indian                               82  0.640375        401   3.131589\n",
       "Mixed/Multiple Ethnic Groups         18  0.140570         76   0.593518\n",
       "Other Ethnic Group                   65  0.507614        226   1.764936\n",
       "White                              1036  8.090590       9690  75.673565"
      ]
     },
     "execution_count": 8,
     "metadata": {},
     "output_type": "execute_result"
    }
   ],
   "source": [
    "# As % of total deaths\n",
    "df_age = df_age_raw.copy()\n",
    "df_age[\"pct_064\"] = (df_age[\"count_064\"]/total_deaths)*100\n",
    "df_age[\"pct_64+\"] = (df_age[\"count_64+\"]/total_deaths)*100\n",
    "df_age = df_age[[\"count_064\", \"pct_064\", \"count_64+\", \"pct_64+\"]]\n",
    "df_age"
   ]
  },
  {
   "cell_type": "code",
   "execution_count": 9,
   "metadata": {},
   "outputs": [
    {
     "data": {
      "text/plain": [
       "Text(0.5, 1.0, 'Covid Deaths as a percentage of Total Covid Deaths')"
      ]
     },
     "execution_count": 9,
     "metadata": {},
     "output_type": "execute_result"
    },
    {
     "data": {
      "image/png": "[encoded data removed]",
      "text/plain": [
       "<Figure size 432x288 with 1 Axes>"
      ]
     },
     "metadata": {
      "needs_background": "light"
     },
     "output_type": "display_data"
    }
   ],
   "source": [
    "df_plot = df_age.drop(columns = [\"count_064\", \"count_64+\"])\n",
    "df_plot.plot.bar()\n",
    "plt.title(\"Covid Deaths as a percentage of Total Covid Deaths\")"
   ]
  },
  {
   "cell_type": "code",
   "execution_count": 10,
   "metadata": {
    "scrolled": true
   },
   "outputs": [
    {
     "data": {
      "text/html": [
       "<div>\n",
       "<style scoped>\n",
       "    .dataframe tbody tr th:only-of-type {\n",
       "        vertical-align: middle;\n",
       "    }\n",
       "\n",
       "    .dataframe tbody tr th {\n",
       "        vertical-align: top;\n",
       "    }\n",
       "\n",
       "    .dataframe thead th {\n",
       "        text-align: right;\n",
       "    }\n",
       "</style>\n",
       "<table border=\"1\" class=\"dataframe\">\n",
       "  <thead>\n",
       "    <tr style=\"text-align: right;\">\n",
       "      <th></th>\n",
       "      <th>count_064</th>\n",
       "      <th>pct_064_ageband</th>\n",
       "      <th>count_64+</th>\n",
       "      <th>pct_64+_ageband</th>\n",
       "    </tr>\n",
       "    <tr>\n",
       "      <th>Ethnicity</th>\n",
       "      <th></th>\n",
       "      <th></th>\n",
       "      <th></th>\n",
       "      <th></th>\n",
       "    </tr>\n",
       "  </thead>\n",
       "  <tbody>\n",
       "    <tr>\n",
       "      <th>Bangladeshis/Pakistani</th>\n",
       "      <td>100</td>\n",
       "      <td>6.684492</td>\n",
       "      <td>286</td>\n",
       "      <td>2.528959</td>\n",
       "    </tr>\n",
       "    <tr>\n",
       "      <th>Black</th>\n",
       "      <td>185</td>\n",
       "      <td>12.366310</td>\n",
       "      <td>581</td>\n",
       "      <td>5.137501</td>\n",
       "    </tr>\n",
       "    <tr>\n",
       "      <th>Chinese</th>\n",
       "      <td>10</td>\n",
       "      <td>0.668449</td>\n",
       "      <td>49</td>\n",
       "      <td>0.433283</td>\n",
       "    </tr>\n",
       "    <tr>\n",
       "      <th>Indian</th>\n",
       "      <td>82</td>\n",
       "      <td>5.481283</td>\n",
       "      <td>401</td>\n",
       "      <td>3.545848</td>\n",
       "    </tr>\n",
       "    <tr>\n",
       "      <th>Mixed/Multiple Ethnic Groups</th>\n",
       "      <td>18</td>\n",
       "      <td>1.203209</td>\n",
       "      <td>76</td>\n",
       "      <td>0.672031</td>\n",
       "    </tr>\n",
       "    <tr>\n",
       "      <th>Other Ethnic Group</th>\n",
       "      <td>65</td>\n",
       "      <td>4.344920</td>\n",
       "      <td>226</td>\n",
       "      <td>1.998408</td>\n",
       "    </tr>\n",
       "    <tr>\n",
       "      <th>White</th>\n",
       "      <td>1036</td>\n",
       "      <td>69.251337</td>\n",
       "      <td>9690</td>\n",
       "      <td>85.683969</td>\n",
       "    </tr>\n",
       "  </tbody>\n",
       "</table>\n",
       "</div>"
      ],
      "text/plain": [
       "                              count_064  pct_064_ageband  count_64+  \\\n",
       "Ethnicity                                                             \n",
       "Bangladeshis/Pakistani              100         6.684492        286   \n",
       "Black                               185        12.366310        581   \n",
       "Chinese                              10         0.668449         49   \n",
       "Indian                               82         5.481283        401   \n",
       "Mixed/Multiple Ethnic Groups         18         1.203209         76   \n",
       "Other Ethnic Group                   65         4.344920        226   \n",
       "White                              1036        69.251337       9690   \n",
       "\n",
       "                              pct_64+_ageband  \n",
       "Ethnicity                                      \n",
       "Bangladeshis/Pakistani               2.528959  \n",
       "Black                                5.137501  \n",
       "Chinese                              0.433283  \n",
       "Indian                               3.545848  \n",
       "Mixed/Multiple Ethnic Groups         0.672031  \n",
       "Other Ethnic Group                   1.998408  \n",
       "White                               85.683969  "
      ]
     },
     "execution_count": 10,
     "metadata": {},
     "output_type": "execute_result"
    }
   ],
   "source": [
    "# As % of ageband \n",
    "under_64_tot  = df_age_raw.count_064.sum()\n",
    "over_64_tot  = df_age_raw[\"count_64+\"].sum()\n",
    "df_age_alt = df_age_raw.copy()\n",
    "df_age_alt[\"pct_064_ageband\"] = (df_age_alt[\"count_064\"]/under_64_tot)*100\n",
    "df_age_alt[\"pct_64+_ageband\"] = (df_age_alt[\"count_64+\"]/over_64_tot)*100\n",
    "df_age_alt = df_age_alt[[\"count_064\", \"pct_064_ageband\", \"count_64+\", \"pct_64+_ageband\"]]\n",
    "df_age_alt"
   ]
  },
  {
   "cell_type": "code",
   "execution_count": 11,
   "metadata": {},
   "outputs": [
    {
     "data": {
      "text/plain": [
       "Text(0.5, 1.0, 'Covid Deaths as a percentage of Ageband Covid Deaths')"
      ]
     },
     "execution_count": 11,
     "metadata": {},
     "output_type": "execute_result"
    },
    {
     "data": {
      "image/png": "[encoded data removed]",
      "text/plain": [
       "<Figure size 432x288 with 1 Axes>"
      ]
     },
     "metadata": {
      "needs_background": "light"
     },
     "output_type": "display_data"
    }
   ],
   "source": [
    "df_plot = df_age_alt.drop(columns = [\"count_064\", \"count_64+\"])\n",
    "df_plot.plot.bar()\n",
    "plt.title(\"Covid Deaths as a percentage of Ageband Covid Deaths\")"
   ]
  },
  {
   "cell_type": "code",
   "execution_count": 12,
   "metadata": {},
   "outputs": [
    {
     "data": {
      "text/html": [
       "<div>\n",
       "<style scoped>\n",
       "    .dataframe tbody tr th:only-of-type {\n",
       "        vertical-align: middle;\n",
       "    }\n",
       "\n",
       "    .dataframe tbody tr th {\n",
       "        vertical-align: top;\n",
       "    }\n",
       "\n",
       "    .dataframe thead th {\n",
       "        text-align: right;\n",
       "    }\n",
       "</style>\n",
       "<table border=\"1\" class=\"dataframe\">\n",
       "  <thead>\n",
       "    <tr style=\"text-align: right;\">\n",
       "      <th></th>\n",
       "      <th>count_064</th>\n",
       "      <th>count_64+</th>\n",
       "      <th>eth_total</th>\n",
       "      <th>pct_064_ethnicity</th>\n",
       "      <th>pct_64+_ethnicity</th>\n",
       "    </tr>\n",
       "    <tr>\n",
       "      <th>Ethnicity</th>\n",
       "      <th></th>\n",
       "      <th></th>\n",
       "      <th></th>\n",
       "      <th></th>\n",
       "      <th></th>\n",
       "    </tr>\n",
       "  </thead>\n",
       "  <tbody>\n",
       "    <tr>\n",
       "      <th>Bangladeshis/Pakistani</th>\n",
       "      <td>100</td>\n",
       "      <td>286</td>\n",
       "      <td>386</td>\n",
       "      <td>25.906736</td>\n",
       "      <td>74.093264</td>\n",
       "    </tr>\n",
       "    <tr>\n",
       "      <th>Black</th>\n",
       "      <td>185</td>\n",
       "      <td>581</td>\n",
       "      <td>766</td>\n",
       "      <td>24.151436</td>\n",
       "      <td>75.848564</td>\n",
       "    </tr>\n",
       "    <tr>\n",
       "      <th>Chinese</th>\n",
       "      <td>10</td>\n",
       "      <td>49</td>\n",
       "      <td>59</td>\n",
       "      <td>16.949153</td>\n",
       "      <td>83.050847</td>\n",
       "    </tr>\n",
       "    <tr>\n",
       "      <th>Indian</th>\n",
       "      <td>82</td>\n",
       "      <td>401</td>\n",
       "      <td>483</td>\n",
       "      <td>16.977226</td>\n",
       "      <td>83.022774</td>\n",
       "    </tr>\n",
       "    <tr>\n",
       "      <th>Mixed/Multiple Ethnic Groups</th>\n",
       "      <td>18</td>\n",
       "      <td>76</td>\n",
       "      <td>94</td>\n",
       "      <td>19.148936</td>\n",
       "      <td>80.851064</td>\n",
       "    </tr>\n",
       "    <tr>\n",
       "      <th>Other Ethnic Group</th>\n",
       "      <td>65</td>\n",
       "      <td>226</td>\n",
       "      <td>291</td>\n",
       "      <td>22.336770</td>\n",
       "      <td>77.663230</td>\n",
       "    </tr>\n",
       "    <tr>\n",
       "      <th>White</th>\n",
       "      <td>1036</td>\n",
       "      <td>9690</td>\n",
       "      <td>10726</td>\n",
       "      <td>9.658773</td>\n",
       "      <td>90.341227</td>\n",
       "    </tr>\n",
       "  </tbody>\n",
       "</table>\n",
       "</div>"
      ],
      "text/plain": [
       "                              count_064  count_64+  eth_total  \\\n",
       "Ethnicity                                                       \n",
       "Bangladeshis/Pakistani              100        286        386   \n",
       "Black                               185        581        766   \n",
       "Chinese                              10         49         59   \n",
       "Indian                               82        401        483   \n",
       "Mixed/Multiple Ethnic Groups         18         76         94   \n",
       "Other Ethnic Group                   65        226        291   \n",
       "White                              1036       9690      10726   \n",
       "\n",
       "                              pct_064_ethnicity  pct_64+_ethnicity  \n",
       "Ethnicity                                                           \n",
       "Bangladeshis/Pakistani                25.906736          74.093264  \n",
       "Black                                 24.151436          75.848564  \n",
       "Chinese                               16.949153          83.050847  \n",
       "Indian                                16.977226          83.022774  \n",
       "Mixed/Multiple Ethnic Groups          19.148936          80.851064  \n",
       "Other Ethnic Group                    22.336770          77.663230  \n",
       "White                                  9.658773          90.341227  "
      ]
     },
     "execution_count": 12,
     "metadata": {},
     "output_type": "execute_result"
    }
   ],
   "source": [
    "# % of ethnicity \n",
    "df_age_eth = df_age_raw.copy()\n",
    "\n",
    "df_age_eth[\"eth_total\"] = df_all_ages.count_deaths\n",
    "df_age_eth\n",
    "df_age_eth[\"pct_064_ethnicity\"] = (df_age_eth[\"count_064\"]/df_age_eth[\"eth_total\"])*100\n",
    "df_age_eth[\"pct_64+_ethnicity\"] = (df_age_eth[\"count_64+\"]/df_age_eth[\"eth_total\"])*100\n",
    "df_age_eth"
   ]
  },
  {
   "cell_type": "code",
   "execution_count": 15,
   "metadata": {},
   "outputs": [
    {
     "data": {
      "text/plain": [
       "Text(0.5, 1.0, 'Covid Deaths as a percentage of Ethnicity Covid Deaths')"
      ]
     },
     "execution_count": 15,
     "metadata": {},
     "output_type": "execute_result"
    },
    {
     "data": {
      "image/png": "[encoded data removed]",
      "text/plain": [
       "<Figure size 432x288 with 1 Axes>"
      ]
     },
     "metadata": {
      "needs_background": "light"
     },
     "output_type": "display_data"
    }
   ],
   "source": [
    "df_plot = df_age_alt.drop(columns = [\"count_064\", \"count_64+\"])\n",
    "df_plot.plot.bar()\n",
    "plt.title(\"Covid Deaths as a percentage of Ethnicity Covid Deaths\")"
   ]
  },
  {
   "cell_type": "markdown",
   "metadata": {},
   "source": [
    "# Population Estimates"
   ]
  },
  {
   "cell_type": "code",
   "execution_count": 14,
   "metadata": {
    "scrolled": false
   },
   "outputs": [
    {
     "data": {
      "text/html": [
       "<div>\n",
       "<style scoped>\n",
       "    .dataframe tbody tr th:only-of-type {\n",
       "        vertical-align: middle;\n",
       "    }\n",
       "\n",
       "    .dataframe tbody tr th {\n",
       "        vertical-align: top;\n",
       "    }\n",
       "\n",
       "    .dataframe thead th {\n",
       "        text-align: right;\n",
       "    }\n",
       "</style>\n",
       "<table border=\"1\" class=\"dataframe\">\n",
       "  <thead>\n",
       "    <tr style=\"text-align: right;\">\n",
       "      <th></th>\n",
       "      <th>Name</th>\n",
       "      <th>0</th>\n",
       "      <th>1</th>\n",
       "      <th>2</th>\n",
       "      <th>3</th>\n",
       "      <th>4</th>\n",
       "      <th>5</th>\n",
       "      <th>6</th>\n",
       "      <th>7</th>\n",
       "      <th>8</th>\n",
       "      <th>...</th>\n",
       "      <th>81</th>\n",
       "      <th>82</th>\n",
       "      <th>83</th>\n",
       "      <th>84</th>\n",
       "      <th>85</th>\n",
       "      <th>86</th>\n",
       "      <th>87</th>\n",
       "      <th>88</th>\n",
       "      <th>89</th>\n",
       "      <th>90+</th>\n",
       "    </tr>\n",
       "    <tr>\n",
       "      <th>Code</th>\n",
       "      <th></th>\n",
       "      <th></th>\n",
       "      <th></th>\n",
       "      <th></th>\n",
       "      <th></th>\n",
       "      <th></th>\n",
       "      <th></th>\n",
       "      <th></th>\n",
       "      <th></th>\n",
       "      <th></th>\n",
       "      <th></th>\n",
       "      <th></th>\n",
       "      <th></th>\n",
       "      <th></th>\n",
       "      <th></th>\n",
       "      <th></th>\n",
       "      <th></th>\n",
       "      <th></th>\n",
       "      <th></th>\n",
       "      <th></th>\n",
       "      <th></th>\n",
       "    </tr>\n",
       "  </thead>\n",
       "  <tbody>\n",
       "    <tr>\n",
       "      <th>K04000001</th>\n",
       "      <td>ENGLAND AND WALES</td>\n",
       "      <td>649388.0</td>\n",
       "      <td>676412.0</td>\n",
       "      <td>698837.0</td>\n",
       "      <td>720721.0</td>\n",
       "      <td>719821.0</td>\n",
       "      <td>726317.0</td>\n",
       "      <td>742744.0</td>\n",
       "      <td>765225.0</td>\n",
       "      <td>750173.0</td>\n",
       "      <td>...</td>\n",
       "      <td>332255.0</td>\n",
       "      <td>306983.0</td>\n",
       "      <td>282197.0</td>\n",
       "      <td>257792.0</td>\n",
       "      <td>228197.0</td>\n",
       "      <td>206177.0</td>\n",
       "      <td>188071.0</td>\n",
       "      <td>167219.0</td>\n",
       "      <td>143992.0</td>\n",
       "      <td>547789.0</td>\n",
       "    </tr>\n",
       "  </tbody>\n",
       "</table>\n",
       "<p>1 rows × 92 columns</p>\n",
       "</div>"
      ],
      "text/plain": [
       "                        Name         0         1         2         3  \\\n",
       "Code                                                                   \n",
       "K04000001  ENGLAND AND WALES  649388.0  676412.0  698837.0  720721.0   \n",
       "\n",
       "                  4         5         6         7         8  ...        81  \\\n",
       "Code                                                         ...             \n",
       "K04000001  719821.0  726317.0  742744.0  765225.0  750173.0  ...  332255.0   \n",
       "\n",
       "                 82        83        84        85        86        87  \\\n",
       "Code                                                                    \n",
       "K04000001  306983.0  282197.0  257792.0  228197.0  206177.0  188071.0   \n",
       "\n",
       "                 88        89       90+  \n",
       "Code                                     \n",
       "K04000001  167219.0  143992.0  547789.0  \n",
       "\n",
       "[1 rows x 92 columns]"
      ]
     },
     "execution_count": 14,
     "metadata": {},
     "output_type": "execute_result"
    }
   ],
   "source": [
    "pop_df = bame_datastore.pop_est.df.copy() # import 2020 population estimates\n",
    "cols_to_sum = pop_df.columns[68:] # gather 65+ columns\n",
    "# pop_df['total_65+'] = pop_df[cols_to_sum].sum(axis=1)  # create 65+ column\n",
    "# pop_df[\"pct_65+\"] = pop_df[\"total_65+\"]/ pop_df[\"All ages\"]\n",
    "eng_wal_df = pop_df.loc[pop_df['Name'] == \"ENGLAND AND WALES\"]\n",
    "eng_wal_df.drop(columns=[\"Geography1\", \"All ages\"])"
   ]
  }
 ],
 "metadata": {
  "kernelspec": {
   "display_name": "venv",
   "language": "python",
   "name": "venv"
  },
  "language_info": {
   "codemirror_mode": {
    "name": "ipython",
    "version": 3
   },
   "file_extension": ".py",
   "mimetype": "text/x-python",
   "name": "python",
   "nbconvert_exporter": "python",
   "pygments_lexer": "ipython3",
   "version": "3.7.7"
  },
  "varInspector": {
   "cols": {
    "lenName": 16,
    "lenType": 16,
    "lenVar": 40
   },
   "kernels_config": {
    "python": {
     "delete_cmd_postfix": "",
     "delete_cmd_prefix": "del ",
     "library": "var_list.py",
     "varRefreshCmd": "print(var_dic_list())"
    },
    "r": {
     "delete_cmd_postfix": ") ",
     "delete_cmd_prefix": "rm(",
     "library": "var_list.r",
     "varRefreshCmd": "cat(var_dic_list()) "
    }
   },
   "types_to_exclude": [
    "module",
    "function",
    "builtin_function_or_method",
    "instance",
    "_Feature"
   ],
   "window_display": false
  }
 },
 "nbformat": 4,
 "nbformat_minor": 2
}
