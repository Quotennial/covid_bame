{
 "cells": [
  {
   "cell_type": "code",
   "execution_count": 4,
   "metadata": {},
   "outputs": [
    {
     "name": "stdout",
     "output_type": "stream",
     "text": [
      "Found local clean copy of ethnicity_2011\n",
      "Found local clean copy of Local_Authority_Districts__December_2009__Boundaries\n",
      "Found local clean copy of fbook_covid_deaths\n",
      "Found local clean copy of BAME_report_cases\n",
      "Found local clean copy of BAME_report_deaths\n",
      "Downloading and cleaning External Data {self.data_name}\n"
     ]
    }
   ],
   "source": [
    "import sys\n",
    "sys.path.insert(0, '../src/data')\n",
    "import geopandas as gpd\n",
    "import seaborn as sns\n",
    "import pandas as pd\n",
    "import matplotlib.pyplot as plt\n",
    "import requests\n",
    "import os"
   ]
  },
  {
   "cell_type": "code",
   "execution_count": 10,
   "metadata": {},
   "outputs": [
    {
     "data": {
      "text/plain": [
       "'https://www.ethnicity-facts-figures.service.gov.uk/uk-population-by-ethnicity/national-and-regional-populations/regional-ethnic-diversity/latest/downloads/ethnic-population-by-local-authority.csv'"
      ]
     },
     "execution_count": 10,
     "metadata": {},
     "output_type": "execute_result"
    }
   ],
   "source": [
    "import datastore\n",
    "\n",
    "datastore.ethnicity_data.data_url"
   ]
  },
  {
   "cell_type": "code",
   "execution_count": null,
   "metadata": {},
   "outputs": [],
   "source": [
    "deaths_df  = datastore.fbook_covid_data.df.iloc[:,4:] # reading the data object\n",
    "deaths_df.set_index(datastore.fbook_covid_data.lad_col) # using the object attribute to get lad name\n",
    "deaths_df.drop(deaths_df.columns[1], axis=1, inplace=True)\n",
    "deaths_df"
   ]
  },
  {
   "cell_type": "code",
   "execution_count": null,
   "metadata": {
    "scrolled": false
   },
   "outputs": [],
   "source": [
    "#plot time line of deaths by lad\n",
    "# plot_deaths_df = deaths_df.melt(id_vars=[\"LTLA Name\"], var_name=\"Date\", value_name=\"Value\")\n",
    "# ax = sns.lineplot(x=\"Date\", y=\"Value\", hue=\"LTLA Name\",data=plot_deaths_df)"
   ]
  },
  {
   "cell_type": "markdown",
   "metadata": {},
   "source": [
    "# Using Geography"
   ]
  },
  {
   "cell_type": "code",
   "execution_count": null,
   "metadata": {},
   "outputs": [],
   "source": [
    "lad_gdf = datastore.lad_geog.gdf.set_index(\"lad09nm\")\n",
    "df = deaths_df.set_index(\"LTLA Name\").join(lad_gdf) # join the deaths and ethnicity data by local authority\n",
    "gdf = gpd.GeoDataFrame(df, geometry=df.geometry)"
   ]
  },
  {
   "cell_type": "code",
   "execution_count": null,
   "metadata": {},
   "outputs": [],
   "source": [
    "f, ax = plt.subplots(1, figsize=(9, 9))\n",
    "gdf.plot(ax=ax, column='2020-06-04 00:00:00', legend=True,)# scheme='Quantiles', fmt='{:.0f}')\n",
    "ax.set_axis_off()\n",
    "ax.set_title('PCGDP1940')\n",
    "plt.axis('equal')\n",
    "plt.show()"
   ]
  }
 ],
 "metadata": {
  "kernelspec": {
   "display_name": "venv",
   "language": "python",
   "name": "venv"
  },
  "language_info": {
   "codemirror_mode": {
    "name": "ipython",
    "version": 3
   },
   "file_extension": ".py",
   "mimetype": "text/x-python",
   "name": "python",
   "nbconvert_exporter": "python",
   "pygments_lexer": "ipython3",
   "version": "3.7.7"
  },
  "varInspector": {
   "cols": {
    "lenName": 16,
    "lenType": 16,
    "lenVar": 40
   },
   "kernels_config": {
    "python": {
     "delete_cmd_postfix": "",
     "delete_cmd_prefix": "del ",
     "library": "var_list.py",
     "varRefreshCmd": "print(var_dic_list())"
    },
    "r": {
     "delete_cmd_postfix": ") ",
     "delete_cmd_prefix": "rm(",
     "library": "var_list.r",
     "varRefreshCmd": "cat(var_dic_list()) "
    }
   },
   "types_to_exclude": [
    "module",
    "function",
    "builtin_function_or_method",
    "instance",
    "_Feature"
   ],
   "window_display": false
  }
 },
 "nbformat": 4,
 "nbformat_minor": 2
}
