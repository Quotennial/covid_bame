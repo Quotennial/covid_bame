{
 "cells": [
  {
   "cell_type": "code",
   "execution_count": 1,
   "metadata": {},
   "outputs": [
    {
     "name": "stdout",
     "output_type": "stream",
     "text": [
      "Found local clean copy of Local_Authority_Districts__December_2009__Boundaries\n",
      "Found local clean copy of fbook_covid_cases\n",
      "Found local clean copy of BAME_report_cases\n",
      "Found local clean copy of BAME_report_deaths\n",
      "Found local clean copy of bame_excess_deaths\n",
      "Found local clean copy of ons_deaths\n",
      "Found local clean copy of ethnicity_2011\n",
      "Found local clean copy of furlough_data\n",
      "Found local clean copy of key_workers\n",
      "Found local clean copy of deprivation_data\n",
      "Found local clean copy of population_est_data\n"
     ]
    }
   ],
   "source": [
    "import sys\n",
    "sys.path.insert(0, '../src/data')\n",
    "import bame_datastore\n",
    "import pandas as pd\n",
    "import requests"
   ]
  },
  {
   "cell_type": "code",
   "execution_count": 2,
   "metadata": {},
   "outputs": [
    {
     "data": {
      "text/plain": [
       "{'mortality': ['fbook_covid_data',\n",
       "  'bame_rpt_deaths',\n",
       "  'bame_rpt_excess_deaths',\n",
       "  'ons_deaths'],\n",
       " 'explanatory': ['ethnicity_data',\n",
       "  'bame_rpt_cases',\n",
       "  'furlough_data',\n",
       "  'key_workers',\n",
       "  'deprivation',\n",
       "  'pop_est'],\n",
       " 'other': ['lad_geog']}"
      ]
     },
     "execution_count": 2,
     "metadata": {},
     "output_type": "execute_result"
    }
   ],
   "source": [
    "bame_datastore.lib"
   ]
  },
  {
   "cell_type": "code",
   "execution_count": 4,
   "metadata": {},
   "outputs": [
    {
     "data": {
      "text/html": [
       "<div>\n",
       "<style scoped>\n",
       "    .dataframe tbody tr th:only-of-type {\n",
       "        vertical-align: middle;\n",
       "    }\n",
       "\n",
       "    .dataframe tbody tr th {\n",
       "        vertical-align: top;\n",
       "    }\n",
       "\n",
       "    .dataframe thead th {\n",
       "        text-align: right;\n",
       "    }\n",
       "</style>\n",
       "<table border=\"1\" class=\"dataframe\">\n",
       "  <thead>\n",
       "    <tr style=\"text-align: right;\">\n",
       "      <th></th>\n",
       "      <th>deaths_all</th>\n",
       "      <th>deaths_covid</th>\n",
       "    </tr>\n",
       "    <tr>\n",
       "      <th>Area Name</th>\n",
       "      <th></th>\n",
       "      <th></th>\n",
       "    </tr>\n",
       "  </thead>\n",
       "  <tbody>\n",
       "    <tr>\n",
       "      <th>Adur</th>\n",
       "      <td>415</td>\n",
       "      <td>39</td>\n",
       "    </tr>\n",
       "    <tr>\n",
       "      <th>Allerdale</th>\n",
       "      <td>704</td>\n",
       "      <td>67</td>\n",
       "    </tr>\n",
       "    <tr>\n",
       "      <th>Amber Valley</th>\n",
       "      <td>826</td>\n",
       "      <td>99</td>\n",
       "    </tr>\n",
       "    <tr>\n",
       "      <th>Aneurin Bevan University Health Board</th>\n",
       "      <td>3634</td>\n",
       "      <td>495</td>\n",
       "    </tr>\n",
       "    <tr>\n",
       "      <th>Arun</th>\n",
       "      <td>1265</td>\n",
       "      <td>67</td>\n",
       "    </tr>\n",
       "    <tr>\n",
       "      <th>...</th>\n",
       "      <td>...</td>\n",
       "      <td>...</td>\n",
       "    </tr>\n",
       "    <tr>\n",
       "      <th>Wrexham</th>\n",
       "      <td>819</td>\n",
       "      <td>77</td>\n",
       "    </tr>\n",
       "    <tr>\n",
       "      <th>Wychavon</th>\n",
       "      <td>793</td>\n",
       "      <td>106</td>\n",
       "    </tr>\n",
       "    <tr>\n",
       "      <th>Wyre</th>\n",
       "      <td>896</td>\n",
       "      <td>111</td>\n",
       "    </tr>\n",
       "    <tr>\n",
       "      <th>Wyre Forest</th>\n",
       "      <td>729</td>\n",
       "      <td>113</td>\n",
       "    </tr>\n",
       "    <tr>\n",
       "      <th>York</th>\n",
       "      <td>1148</td>\n",
       "      <td>163</td>\n",
       "    </tr>\n",
       "  </tbody>\n",
       "</table>\n",
       "<p>343 rows × 2 columns</p>\n",
       "</div>"
      ],
      "text/plain": [
       "                                       deaths_all  deaths_covid\n",
       "Area Name                                                      \n",
       "Adur                                          415            39\n",
       "Allerdale                                     704            67\n",
       "Amber Valley                                  826            99\n",
       "Aneurin Bevan University Health Board        3634           495\n",
       "Arun                                         1265            67\n",
       "...                                           ...           ...\n",
       "Wrexham                                       819            77\n",
       "Wychavon                                      793           106\n",
       "Wyre                                          896           111\n",
       "Wyre Forest                                   729           113\n",
       "York                                         1148           163\n",
       "\n",
       "[343 rows x 2 columns]"
      ]
     },
     "execution_count": 4,
     "metadata": {},
     "output_type": "execute_result"
    }
   ],
   "source": [
    "bame_datastore.ons_deaths.df"
   ]
  },
  {
   "cell_type": "code",
   "execution_count": null,
   "metadata": {},
   "outputs": [],
   "source": [
    "ons_deaths_dict = {\"name\": \"ons_deaths\",\n",
    "            \"url\":\"https://www.ons.gov.uk/file?uri=%2fpeoplepopulationandcommunity%2fhealthandsocialcare%2fcausesofdeath%2fdatasets%2fdeathregistrationsandoccurrencesbylocalauthorityandhealthboard%2f2020/lahbtablesweek26.xlsx\",\n",
    "            \"page_url\": \"https://www.ons.gov.uk/peoplepopulationandcommunity/healthandsocialcare/causesofdeath/datasets/deathregistrationsandoccurrencesbylocalauthorityandhealthboard\",\n",
    "            \"geog_col\":\"Area Name\"}\n",
    "url = ons_deaths_dict[\"url\"]"
   ]
  },
  {
   "cell_type": "code",
   "execution_count": null,
   "metadata": {},
   "outputs": [],
   "source": [
    "r = requests.get(url)\n",
    "fpath = f\"../data/external/ons_covid.xlsx\"\n",
    "with open(fpath, 'wb') as outfile:\n",
    "    outfile.write(r.content)\n",
    "deaths_df_raw = pd.read_excel(fpath, sheet_name=\"Registrations - All data\", skiprows=3)"
   ]
  },
  {
   "cell_type": "code",
   "execution_count": null,
   "metadata": {
    "scrolled": true
   },
   "outputs": [],
   "source": [
    "area_nme_col = deaths_df_raw.columns[2] # becasue of trailing space in column name \n",
    "deaths_df = cases_df_raw.groupby([area_nme_col,'Cause of death', 'Week number']).sum()\n",
    "deaths_df = deaths_df.groupby([area_nme_col,'Cause of death']).sum().reset_index()\n",
    "deaths_df = deaths_df.pivot(index = \"Area name \", columns = \"Cause of death\")\n",
    "\n",
    "deaths_df.columns = deaths_df.columns.map(''.join)\n",
    "deaths_df = deaths_df.reset_index()\n",
    "deaths_df.columns = [\"Area Name\", \"deaths_all\", \"deaths_covid\"]\n"
   ]
  },
  {
   "cell_type": "code",
   "execution_count": null,
   "metadata": {},
   "outputs": [],
   "source": [
    "deaths_df"
   ]
  }
 ],
 "metadata": {
  "kernelspec": {
   "display_name": "venv",
   "language": "python",
   "name": "venv"
  },
  "language_info": {
   "codemirror_mode": {
    "name": "ipython",
    "version": 3
   },
   "file_extension": ".py",
   "mimetype": "text/x-python",
   "name": "python",
   "nbconvert_exporter": "python",
   "pygments_lexer": "ipython3",
   "version": "3.7.7"
  },
  "varInspector": {
   "cols": {
    "lenName": 16,
    "lenType": 16,
    "lenVar": 40
   },
   "kernels_config": {
    "python": {
     "delete_cmd_postfix": "",
     "delete_cmd_prefix": "del ",
     "library": "var_list.py",
     "varRefreshCmd": "print(var_dic_list())"
    },
    "r": {
     "delete_cmd_postfix": ") ",
     "delete_cmd_prefix": "rm(",
     "library": "var_list.r",
     "varRefreshCmd": "cat(var_dic_list()) "
    }
   },
   "types_to_exclude": [
    "module",
    "function",
    "builtin_function_or_method",
    "instance",
    "_Feature"
   ],
   "window_display": false
  }
 },
 "nbformat": 4,
 "nbformat_minor": 2
}
