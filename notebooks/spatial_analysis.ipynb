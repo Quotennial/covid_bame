{
 "cells": [
  {
   "cell_type": "code",
   "execution_count": 1,
   "metadata": {},
   "outputs": [],
   "source": [
    "import sys\n",
    "sys.path.insert(0, '../src/data')\n",
    "import matplotlib.pyplot as plt\n",
    "import seaborn as sns\n",
    "import pandas as pd\n",
    "import numpy as np\n",
    "import bame_datastore"
   ]
  },
  {
   "cell_type": "code",
   "execution_count": 2,
   "metadata": {},
   "outputs": [
    {
     "name": "stdout",
     "output_type": "stream",
     "text": [
      "Found local clean copy of ethnicity_2011\n",
      "Found local clean copy of Local_Authority_Districts__December_2009__Boundaries\n",
      "Found local clean copy of fbook_covid_deaths\n",
      "Found local clean copy of BAME_report_cases\n",
      "Found local clean copy of BAME_report_deaths\n",
      "Found local clean copy of bame_excess_deaths\n",
      "Found local clean copy of ons_deaths\n",
      "Found local clean copy of furlough_data\n",
      "Found local clean copy of key_workers\n"
     ]
    },
    {
     "data": {
      "text/plain": [
       "{'mortality': ['fbook_covid_data',\n",
       "  'bame_rpt_deaths',\n",
       "  'bame_rpt_excess_deaths',\n",
       "  'ons_deaths'],\n",
       " 'explanatory': ['ethnicity_data',\n",
       "  'bame_rpt_cases',\n",
       "  'furlough_data',\n",
       "  'key_workers'],\n",
       " 'other': ['lad_geog']}"
      ]
     },
     "execution_count": 2,
     "metadata": {},
     "output_type": "execute_result"
    }
   ],
   "source": [
    "import bame_datastore\n",
    "bame_datastore.lib"
   ]
  },
  {
   "cell_type": "code",
   "execution_count": 6,
   "metadata": {},
   "outputs": [
    {
     "data": {
      "text/html": [
       "<div>\n",
       "<style scoped>\n",
       "    .dataframe tbody tr th:only-of-type {\n",
       "        vertical-align: middle;\n",
       "    }\n",
       "\n",
       "    .dataframe tbody tr th {\n",
       "        vertical-align: top;\n",
       "    }\n",
       "\n",
       "    .dataframe thead th {\n",
       "        text-align: right;\n",
       "    }\n",
       "</style>\n",
       "<table border=\"1\" class=\"dataframe\">\n",
       "  <thead>\n",
       "    <tr style=\"text-align: right;\">\n",
       "      <th></th>\n",
       "      <th>all_death_rate</th>\n",
       "      <th>covid_death_rate</th>\n",
       "      <th>bame_share</th>\n",
       "      <th>pct_furloughed</th>\n",
       "      <th>key_workers_pct</th>\n",
       "    </tr>\n",
       "  </thead>\n",
       "  <tbody>\n",
       "    <tr>\n",
       "      <th>Adur</th>\n",
       "      <td>144.3</td>\n",
       "      <td>12.1</td>\n",
       "      <td>8.25</td>\n",
       "      <td>0.120951</td>\n",
       "      <td>39.2</td>\n",
       "    </tr>\n",
       "    <tr>\n",
       "      <th>Allerdale</th>\n",
       "      <td>155.4</td>\n",
       "      <td>28.4</td>\n",
       "      <td>2.14</td>\n",
       "      <td>0.128601</td>\n",
       "      <td>37.4</td>\n",
       "    </tr>\n",
       "    <tr>\n",
       "      <th>Amber Valley</th>\n",
       "      <td>153.4</td>\n",
       "      <td>27.7</td>\n",
       "      <td>3.75</td>\n",
       "      <td>0.128363</td>\n",
       "      <td>32.2</td>\n",
       "    </tr>\n",
       "    <tr>\n",
       "      <th>Arun</th>\n",
       "      <td>119.1</td>\n",
       "      <td>8.5</td>\n",
       "      <td>5.90</td>\n",
       "      <td>0.127075</td>\n",
       "      <td>31.9</td>\n",
       "    </tr>\n",
       "    <tr>\n",
       "      <th>Ashfield</th>\n",
       "      <td>170.9</td>\n",
       "      <td>40.8</td>\n",
       "      <td>4.61</td>\n",
       "      <td>0.128037</td>\n",
       "      <td>29.1</td>\n",
       "    </tr>\n",
       "    <tr>\n",
       "      <th>...</th>\n",
       "      <td>...</td>\n",
       "      <td>...</td>\n",
       "      <td>...</td>\n",
       "      <td>...</td>\n",
       "      <td>...</td>\n",
       "    </tr>\n",
       "    <tr>\n",
       "      <th>Worthing</th>\n",
       "      <td>139.3</td>\n",
       "      <td>11.7</td>\n",
       "      <td>12.42</td>\n",
       "      <td>0.116590</td>\n",
       "      <td>35.8</td>\n",
       "    </tr>\n",
       "    <tr>\n",
       "      <th>Wrexham</th>\n",
       "      <td>142.0</td>\n",
       "      <td>9.4</td>\n",
       "      <td>6.22</td>\n",
       "      <td>0.111981</td>\n",
       "      <td>32.4</td>\n",
       "    </tr>\n",
       "    <tr>\n",
       "      <th>Wychavon</th>\n",
       "      <td>133.7</td>\n",
       "      <td>24.4</td>\n",
       "      <td>4.26</td>\n",
       "      <td>0.136818</td>\n",
       "      <td>38.9</td>\n",
       "    </tr>\n",
       "    <tr>\n",
       "      <th>Wyre</th>\n",
       "      <td>128.3</td>\n",
       "      <td>12.4</td>\n",
       "      <td>3.51</td>\n",
       "      <td>0.112298</td>\n",
       "      <td>48.2</td>\n",
       "    </tr>\n",
       "    <tr>\n",
       "      <th>Wyre Forest</th>\n",
       "      <td>168.6</td>\n",
       "      <td>37.3</td>\n",
       "      <td>5.52</td>\n",
       "      <td>0.136770</td>\n",
       "      <td>33.1</td>\n",
       "    </tr>\n",
       "  </tbody>\n",
       "</table>\n",
       "<p>255 rows × 5 columns</p>\n",
       "</div>"
      ],
      "text/plain": [
       "              all_death_rate  covid_death_rate  bame_share  pct_furloughed  \\\n",
       "Adur                   144.3              12.1        8.25        0.120951   \n",
       "Allerdale              155.4              28.4        2.14        0.128601   \n",
       "Amber Valley           153.4              27.7        3.75        0.128363   \n",
       "Arun                   119.1               8.5        5.90        0.127075   \n",
       "Ashfield               170.9              40.8        4.61        0.128037   \n",
       "...                      ...               ...         ...             ...   \n",
       "Worthing               139.3              11.7       12.42        0.116590   \n",
       "Wrexham                142.0               9.4        6.22        0.111981   \n",
       "Wychavon               133.7              24.4        4.26        0.136818   \n",
       "Wyre                   128.3              12.4        3.51        0.112298   \n",
       "Wyre Forest            168.6              37.3        5.52        0.136770   \n",
       "\n",
       "              key_workers_pct  \n",
       "Adur                     39.2  \n",
       "Allerdale                37.4  \n",
       "Amber Valley             32.2  \n",
       "Arun                     31.9  \n",
       "Ashfield                 29.1  \n",
       "...                       ...  \n",
       "Worthing                 35.8  \n",
       "Wrexham                  32.4  \n",
       "Wychavon                 38.9  \n",
       "Wyre                     48.2  \n",
       "Wyre Forest              33.1  \n",
       "\n",
       "[255 rows x 5 columns]"
      ]
     },
     "execution_count": 6,
     "metadata": {},
     "output_type": "execute_result"
    }
   ],
   "source": [
    "df= pd.read_csv(\"../data/processed/explain_pop_norm.csv\", index_col=0)\n",
    "df\n",
    "\n"
   ]
  }
 ],
 "metadata": {
  "kernelspec": {
   "display_name": "venv",
   "language": "python",
   "name": "venv"
  },
  "language_info": {
   "codemirror_mode": {
    "name": "ipython",
    "version": 3
   },
   "file_extension": ".py",
   "mimetype": "text/x-python",
   "name": "python",
   "nbconvert_exporter": "python",
   "pygments_lexer": "ipython3",
   "version": "3.7.7"
  },
  "varInspector": {
   "cols": {
    "lenName": 16,
    "lenType": 16,
    "lenVar": 40
   },
   "kernels_config": {
    "python": {
     "delete_cmd_postfix": "",
     "delete_cmd_prefix": "del ",
     "library": "var_list.py",
     "varRefreshCmd": "print(var_dic_list())"
    },
    "r": {
     "delete_cmd_postfix": ") ",
     "delete_cmd_prefix": "rm(",
     "library": "var_list.r",
     "varRefreshCmd": "cat(var_dic_list()) "
    }
   },
   "types_to_exclude": [
    "module",
    "function",
    "builtin_function_or_method",
    "instance",
    "_Feature"
   ],
   "window_display": false
  }
 },
 "nbformat": 4,
 "nbformat_minor": 2
}
