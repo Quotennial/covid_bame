{
 "cells": [
  {
   "cell_type": "code",
   "execution_count": 4,
   "metadata": {},
   "outputs": [
    {
     "name": "stderr",
     "output_type": "stream",
     "text": [
      "/Users/yusufsohoye/pythoncode/covid_bame/venv/lib/python3.7/site-packages/ipykernel_launcher.py:6: FutureWarning: The \"contextily.tile_providers\" module is deprecated and will be removed in contextily v1.1. Please use \"contextily.providers\" instead.\n",
      "  \n"
     ]
    }
   ],
   "source": [
    "# Graphics\n",
    "%matplotlib inline\n",
    "import matplotlib.pyplot as plt\n",
    "from splot.esda import plot_moran\n",
    "import contextily\n",
    "from contextily.tile_providers import ST_TERRAIN_BACKGROUND\n",
    "# Analysis\n",
    "import geopandas\n",
    "import pandas\n",
    "from pysal.explore import esda\n",
    "from pysal.lib import weights\n",
    "from numpy.random import seed\n",
    "# Bespoke\n",
    "# from booktools import choropleth"
   ]
  },
  {
   "cell_type": "code",
   "execution_count": 6,
   "metadata": {},
   "outputs": [],
   "source": [
    "import sys\n",
    "sys.path.insert(0, '../src/data')\n",
    "import matplotlib.pyplot as plt\n",
    "import seaborn as sns\n",
    "import pandas as pd\n",
    "import numpy as np\n",
    "import bame_datastore"
   ]
  },
  {
   "cell_type": "code",
   "execution_count": 8,
   "metadata": {},
   "outputs": [],
   "source": [
    "df= pd.read_csv(\"../data/processed/explain_pop_norm.csv\", index_col=0)\n",
    "gdf = bame_datastore.lad_geog.gdf.set_index(\"lad09nm\")\n",
    "db = gdf.join(df)"
   ]
  },
  {
   "cell_type": "code",
   "execution_count": 16,
   "metadata": {},
   "outputs": [
    {
     "data": {
      "text/html": [
       "<div>\n",
       "<style scoped>\n",
       "    .dataframe tbody tr th:only-of-type {\n",
       "        vertical-align: middle;\n",
       "    }\n",
       "\n",
       "    .dataframe tbody tr th {\n",
       "        vertical-align: top;\n",
       "    }\n",
       "\n",
       "    .dataframe thead th {\n",
       "        text-align: right;\n",
       "    }\n",
       "</style>\n",
       "<table border=\"1\" class=\"dataframe\">\n",
       "  <thead>\n",
       "    <tr style=\"text-align: right;\">\n",
       "      <th></th>\n",
       "      <th>objectid</th>\n",
       "      <th>lad09cd</th>\n",
       "      <th>lad09nmw</th>\n",
       "      <th>st_areashape</th>\n",
       "      <th>st_lengthshape</th>\n",
       "      <th>geometry</th>\n",
       "      <th>all_death_rate</th>\n",
       "      <th>covid_death_rate</th>\n",
       "      <th>bame_share</th>\n",
       "      <th>pct_furloughed</th>\n",
       "      <th>key_workers_pct</th>\n",
       "    </tr>\n",
       "    <tr>\n",
       "      <th>lad09nm</th>\n",
       "      <th></th>\n",
       "      <th></th>\n",
       "      <th></th>\n",
       "      <th></th>\n",
       "      <th></th>\n",
       "      <th></th>\n",
       "      <th></th>\n",
       "      <th></th>\n",
       "      <th></th>\n",
       "      <th></th>\n",
       "      <th></th>\n",
       "    </tr>\n",
       "  </thead>\n",
       "  <tbody>\n",
       "    <tr>\n",
       "      <th>City of London</th>\n",
       "      <td>1</td>\n",
       "      <td>00AA</td>\n",
       "      <td></td>\n",
       "      <td>3.143399e+06</td>\n",
       "      <td>7743.569362</td>\n",
       "      <td>POLYGON ((-0.08519 51.52034, -0.09676 51.52332...</td>\n",
       "      <td>NaN</td>\n",
       "      <td>NaN</td>\n",
       "      <td>NaN</td>\n",
       "      <td>NaN</td>\n",
       "      <td>NaN</td>\n",
       "    </tr>\n",
       "    <tr>\n",
       "      <th>Barking and Dagenham</th>\n",
       "      <td>2</td>\n",
       "      <td>00AB</td>\n",
       "      <td></td>\n",
       "      <td>3.584012e+07</td>\n",
       "      <td>32834.831127</td>\n",
       "      <td>POLYGON ((0.15916 51.51203, 0.16548 51.52843, ...</td>\n",
       "      <td>229.5</td>\n",
       "      <td>89.2</td>\n",
       "      <td>83.41</td>\n",
       "      <td>0.137700</td>\n",
       "      <td>33.1</td>\n",
       "    </tr>\n",
       "    <tr>\n",
       "      <th>Barnet</th>\n",
       "      <td>3</td>\n",
       "      <td>00AC</td>\n",
       "      <td></td>\n",
       "      <td>8.696348e+07</td>\n",
       "      <td>44996.554865</td>\n",
       "      <td>POLYGON ((-0.18209 51.66860, -0.19101 51.66395...</td>\n",
       "      <td>216.9</td>\n",
       "      <td>91.6</td>\n",
       "      <td>71.73</td>\n",
       "      <td>0.136088</td>\n",
       "      <td>29.3</td>\n",
       "    </tr>\n",
       "    <tr>\n",
       "      <th>Bexley</th>\n",
       "      <td>4</td>\n",
       "      <td>00AD</td>\n",
       "      <td></td>\n",
       "      <td>6.065689e+07</td>\n",
       "      <td>42833.280659</td>\n",
       "      <td>MULTIPOLYGON (((0.18660 51.48044, 0.17520 51.4...</td>\n",
       "      <td>165.4</td>\n",
       "      <td>54.8</td>\n",
       "      <td>36.23</td>\n",
       "      <td>0.114657</td>\n",
       "      <td>29.0</td>\n",
       "    </tr>\n",
       "    <tr>\n",
       "      <th>Brent</th>\n",
       "      <td>5</td>\n",
       "      <td>00AE</td>\n",
       "      <td></td>\n",
       "      <td>4.378373e+07</td>\n",
       "      <td>35339.011384</td>\n",
       "      <td>POLYGON ((-0.21348 51.55519, -0.23342 51.57198...</td>\n",
       "      <td>NaN</td>\n",
       "      <td>NaN</td>\n",
       "      <td>NaN</td>\n",
       "      <td>NaN</td>\n",
       "      <td>NaN</td>\n",
       "    </tr>\n",
       "  </tbody>\n",
       "</table>\n",
       "</div>"
      ],
      "text/plain": [
       "                      objectid lad09cd lad09nmw  st_areashape  st_lengthshape  \\\n",
       "lad09nm                                                                         \n",
       "City of London               1    00AA           3.143399e+06     7743.569362   \n",
       "Barking and Dagenham         2    00AB           3.584012e+07    32834.831127   \n",
       "Barnet                       3    00AC           8.696348e+07    44996.554865   \n",
       "Bexley                       4    00AD           6.065689e+07    42833.280659   \n",
       "Brent                        5    00AE           4.378373e+07    35339.011384   \n",
       "\n",
       "                                                               geometry  \\\n",
       "lad09nm                                                                   \n",
       "City of London        POLYGON ((-0.08519 51.52034, -0.09676 51.52332...   \n",
       "Barking and Dagenham  POLYGON ((0.15916 51.51203, 0.16548 51.52843, ...   \n",
       "Barnet                POLYGON ((-0.18209 51.66860, -0.19101 51.66395...   \n",
       "Bexley                MULTIPOLYGON (((0.18660 51.48044, 0.17520 51.4...   \n",
       "Brent                 POLYGON ((-0.21348 51.55519, -0.23342 51.57198...   \n",
       "\n",
       "                      all_death_rate  covid_death_rate  bame_share  \\\n",
       "lad09nm                                                              \n",
       "City of London                   NaN               NaN         NaN   \n",
       "Barking and Dagenham           229.5              89.2       83.41   \n",
       "Barnet                         216.9              91.6       71.73   \n",
       "Bexley                         165.4              54.8       36.23   \n",
       "Brent                            NaN               NaN         NaN   \n",
       "\n",
       "                      pct_furloughed  key_workers_pct  \n",
       "lad09nm                                                \n",
       "City of London                   NaN              NaN  \n",
       "Barking and Dagenham        0.137700             33.1  \n",
       "Barnet                      0.136088             29.3  \n",
       "Bexley                      0.114657             29.0  \n",
       "Brent                            NaN              NaN  "
      ]
     },
     "execution_count": 16,
     "metadata": {},
     "output_type": "execute_result"
    }
   ],
   "source": [
    "db.head()"
   ]
  },
  {
   "cell_type": "code",
   "execution_count": 13,
   "metadata": {},
   "outputs": [
    {
     "name": "stderr",
     "output_type": "stream",
     "text": [
      "/Users/yusufsohoye/pythoncode/covid_bame/venv/lib/python3.7/site-packages/ipykernel_launcher.py:3: FutureWarning: The \"url\" option is deprecated. Please use the \"source\" argument instead.\n",
      "  This is separate from the ipykernel package so we can avoid doing imports until\n"
     ]
    }
   ],
   "source": [
    "we, so, ea, no = db.total_bounds\n",
    "img, ext = contextily.bounds2img(we, so, ea, no, 6,\n",
    "                         url=ST_TERRAIN_BACKGROUND)\n",
    "lic = (\"Map tiles by Stamen Design, under CC BY 3.0. \"\\\n",
    "               \"Data by OpenStreetMap, under ODbL.\")\n"
   ]
  },
  {
   "cell_type": "code",
   "execution_count": 15,
   "metadata": {},
   "outputs": [],
   "source": [
    "# Generate W from the GeoDataFrame\n",
    "w = weights.KNN.from_dataframe(db, k=8)\n",
    "# Row-standardization\n",
    "w.transform = 'R'\n",
    "\n"
   ]
  },
  {
   "cell_type": "code",
   "execution_count": 18,
   "metadata": {},
   "outputs": [
    {
     "data": {
      "text/html": [
       "<div>\n",
       "<style scoped>\n",
       "    .dataframe tbody tr th:only-of-type {\n",
       "        vertical-align: middle;\n",
       "    }\n",
       "\n",
       "    .dataframe tbody tr th {\n",
       "        vertical-align: top;\n",
       "    }\n",
       "\n",
       "    .dataframe thead th {\n",
       "        text-align: right;\n",
       "    }\n",
       "</style>\n",
       "<table border=\"1\" class=\"dataframe\">\n",
       "  <thead>\n",
       "    <tr style=\"text-align: right;\">\n",
       "      <th></th>\n",
       "      <th>covid_death_rate</th>\n",
       "      <th>covid_death_rate_lag</th>\n",
       "    </tr>\n",
       "    <tr>\n",
       "      <th>lad09nm</th>\n",
       "      <th></th>\n",
       "      <th></th>\n",
       "    </tr>\n",
       "  </thead>\n",
       "  <tbody>\n",
       "    <tr>\n",
       "      <th>Barnet</th>\n",
       "      <td>91.6</td>\n",
       "      <td>NaN</td>\n",
       "    </tr>\n",
       "    <tr>\n",
       "      <th>Bexley</th>\n",
       "      <td>54.8</td>\n",
       "      <td>NaN</td>\n",
       "    </tr>\n",
       "  </tbody>\n",
       "</table>\n",
       "</div>"
      ],
      "text/plain": [
       "         covid_death_rate  covid_death_rate_lag\n",
       "lad09nm                                        \n",
       "Barnet               91.6                   NaN\n",
       "Bexley               54.8                   NaN"
      ]
     },
     "execution_count": 18,
     "metadata": {},
     "output_type": "execute_result"
    }
   ],
   "source": [
    "db['covid_death_rate_lag'] = weights.spatial_lag.lag_spatial(w, db['covid_death_rate'])\n",
    "db.loc[['Barnet', 'Bexley'], \n",
    "       ['covid_death_rate', 'covid_death_rate_lag']]\n"
   ]
  }
 ],
 "metadata": {
  "kernelspec": {
   "display_name": "venv",
   "language": "python",
   "name": "venv"
  },
  "language_info": {
   "codemirror_mode": {
    "name": "ipython",
    "version": 3
   },
   "file_extension": ".py",
   "mimetype": "text/x-python",
   "name": "python",
   "nbconvert_exporter": "python",
   "pygments_lexer": "ipython3",
   "version": "3.7.7"
  },
  "varInspector": {
   "cols": {
    "lenName": 16,
    "lenType": 16,
    "lenVar": 40
   },
   "kernels_config": {
    "python": {
     "delete_cmd_postfix": "",
     "delete_cmd_prefix": "del ",
     "library": "var_list.py",
     "varRefreshCmd": "print(var_dic_list())"
    },
    "r": {
     "delete_cmd_postfix": ") ",
     "delete_cmd_prefix": "rm(",
     "library": "var_list.r",
     "varRefreshCmd": "cat(var_dic_list()) "
    }
   },
   "types_to_exclude": [
    "module",
    "function",
    "builtin_function_or_method",
    "instance",
    "_Feature"
   ],
   "window_display": false
  }
 },
 "nbformat": 4,
 "nbformat_minor": 2
}
